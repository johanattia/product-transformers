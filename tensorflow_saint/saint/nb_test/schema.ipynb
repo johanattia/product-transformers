{
 "cells": [
  {
   "cell_type": "code",
   "execution_count": 1,
   "source": [
    "import sys\n",
    "sys.path.append(\"..\")"
   ],
   "outputs": [],
   "metadata": {}
  },
  {
   "cell_type": "code",
   "execution_count": 2,
   "source": [
    "import schema"
   ],
   "outputs": [],
   "metadata": {}
  },
  {
   "cell_type": "code",
   "execution_count": 3,
   "source": [
    "building_feature = schema.FeatureSchema(\n",
    "    name=\"building\", \n",
    "    feature_type=schema.FeatureType.CATEGORICAL, \n",
    "    feature_dimension=3,\n",
    "    field_type=schema.FieldType.STRING,\n",
    "    description=\"Represents features with values in [tower, house, other buildings]\",\n",
    ")\n",
    "print(building_feature.json())\n",
    "\n",
    "\n",
    "car_feature = schema.FeatureSchema(\n",
    "    name=\"car\", \n",
    "    feature_type=schema.FeatureType.CATEGORICAL, \n",
    "    feature_dimension=4,\n",
    "    field_type=schema.FieldType.STRING,\n",
    "    description=\"Represents features with values in [mercedes, porsche, tesla, audi]\",\n",
    ")\n",
    "print(car_feature.json())"
   ],
   "outputs": [
    {
     "output_type": "stream",
     "name": "stdout",
     "text": [
      "{\"name\": \"building\", \"feature_type\": \"CATEGORICAL\", \"feature_dimension\": 3, \"field_type\": \"STRING\", \"description\": \"Represents features with values in [tower, house, other buildings]\", \"minimum\": null, \"maximum\": null}\n",
      "{\"name\": \"car\", \"feature_type\": \"CATEGORICAL\", \"feature_dimension\": 4, \"field_type\": \"STRING\", \"description\": \"Represents features with values in [mercedes, porsche, tesla, audi]\", \"minimum\": null, \"maximum\": null}\n"
     ]
    }
   ],
   "metadata": {}
  },
  {
   "cell_type": "code",
   "execution_count": 4,
   "source": [
    "car_feature.dict()"
   ],
   "outputs": [
    {
     "output_type": "execute_result",
     "data": {
      "text/plain": [
       "{'name': 'car',\n",
       " 'feature_type': <FeatureType.CATEGORICAL: 'CATEGORICAL'>,\n",
       " 'feature_dimension': 4,\n",
       " 'field_type': <FieldType.STRING: 'STRING'>,\n",
       " 'description': 'Represents features with values in [mercedes, porsche, tesla, audi]',\n",
       " 'minimum': None,\n",
       " 'maximum': None}"
      ]
     },
     "metadata": {},
     "execution_count": 4
    }
   ],
   "metadata": {}
  },
  {
   "cell_type": "code",
   "execution_count": 5,
   "source": [
    "car_feature.json()"
   ],
   "outputs": [
    {
     "output_type": "execute_result",
     "data": {
      "text/plain": [
       "'{\"name\": \"car\", \"feature_type\": \"CATEGORICAL\", \"feature_dimension\": 4, \"field_type\": \"STRING\", \"description\": \"Represents features with values in [mercedes, porsche, tesla, audi]\", \"minimum\": null, \"maximum\": null}'"
      ]
     },
     "metadata": {},
     "execution_count": 5
    }
   ],
   "metadata": {}
  },
  {
   "cell_type": "code",
   "execution_count": 6,
   "source": [
    "features_schema = schema.InputFeaturesSchema(name=\"test_schema\", ordered_features=[building_feature, car_feature])\n",
    "features_schema.json()"
   ],
   "outputs": [
    {
     "output_type": "execute_result",
     "data": {
      "text/plain": [
       "'{\"name\": \"test_schema\", \"ordered_features\": [{\"name\": \"building\", \"feature_type\": \"CATEGORICAL\", \"feature_dimension\": 3, \"field_type\": \"STRING\", \"description\": \"Represents features with values in [tower, house, other buildings]\", \"minimum\": null, \"maximum\": null}, {\"name\": \"car\", \"feature_type\": \"CATEGORICAL\", \"feature_dimension\": 4, \"field_type\": \"STRING\", \"description\": \"Represents features with values in [mercedes, porsche, tesla, audi]\", \"minimum\": null, \"maximum\": null}]}'"
      ]
     },
     "metadata": {},
     "execution_count": 6
    }
   ],
   "metadata": {}
  },
  {
   "cell_type": "code",
   "execution_count": 7,
   "source": [
    "features_schema_test = schema.input_schema_from_json(features_schema.json())\n",
    "features_schema_test == features_schema"
   ],
   "outputs": [
    {
     "output_type": "execute_result",
     "data": {
      "text/plain": [
       "True"
      ]
     },
     "metadata": {},
     "execution_count": 7
    }
   ],
   "metadata": {}
  },
  {
   "cell_type": "code",
   "execution_count": 9,
   "source": [
    "features_schema"
   ],
   "outputs": [
    {
     "output_type": "execute_result",
     "data": {
      "text/plain": [
       "InputFeaturesSchema(name='test_schema', ordered_features=[FeatureSchema(name='building', feature_type=<FeatureType.CATEGORICAL: 'CATEGORICAL'>, feature_dimension=3, field_type=<FieldType.STRING: 'STRING'>, description='Represents features with values in [tower, house, other buildings]', minimum=None, maximum=None), FeatureSchema(name='car', feature_type=<FeatureType.CATEGORICAL: 'CATEGORICAL'>, feature_dimension=4, field_type=<FieldType.STRING: 'STRING'>, description='Represents features with values in [mercedes, porsche, tesla, audi]', minimum=None, maximum=None)])"
      ]
     },
     "metadata": {},
     "execution_count": 9
    }
   ],
   "metadata": {}
  },
  {
   "cell_type": "code",
   "execution_count": 7,
   "source": [
    "building_feature.schema()"
   ],
   "outputs": [
    {
     "output_type": "execute_result",
     "data": {
      "text/plain": [
       "{'title': 'FeatureSchema',\n",
       " 'type': 'object',\n",
       " 'properties': {'name': {'title': 'Name', 'type': 'string'},\n",
       "  'feature_type': {'$ref': '#/definitions/FeatureType'},\n",
       "  'feature_dimension': {'title': 'Feature Dimension', 'type': 'integer'},\n",
       "  'field_type': {'$ref': '#/definitions/FieldType'},\n",
       "  'description': {'title': 'Description', 'type': 'string'},\n",
       "  'minimum': {'title': 'Minimum',\n",
       "   'anyOf': [{'type': 'integer'}, {'type': 'number'}]},\n",
       "  'maximum': {'title': 'Maximum',\n",
       "   'anyOf': [{'type': 'integer'}, {'type': 'number'}]}},\n",
       " 'required': ['name', 'feature_type', 'feature_dimension'],\n",
       " 'definitions': {'FeatureType': {'title': 'FeatureType',\n",
       "   'description': 'An enumeration.',\n",
       "   'enum': ['NUMERICAL', 'CATEGORICAL']},\n",
       "  'FieldType': {'title': 'FieldType',\n",
       "   'description': 'An enumeration.',\n",
       "   'enum': ['INT', 'FLOAT', 'STRING']}}}"
      ]
     },
     "metadata": {},
     "execution_count": 7
    }
   ],
   "metadata": {}
  },
  {
   "cell_type": "code",
   "execution_count": 8,
   "source": [
    "import json"
   ],
   "outputs": [],
   "metadata": {}
  },
  {
   "cell_type": "code",
   "execution_count": 9,
   "source": [
    "json.loads(features_schema.json())[\"ordered_features\"]"
   ],
   "outputs": [
    {
     "output_type": "execute_result",
     "data": {
      "text/plain": [
       "[{'name': 'building',\n",
       "  'feature_type': 'CATEGORICAL',\n",
       "  'feature_dimension': 3,\n",
       "  'field_type': 'STRING',\n",
       "  'description': 'Represents features with values in [tower, house, other buildings]',\n",
       "  'minimum': None,\n",
       "  'maximum': None},\n",
       " {'name': 'car',\n",
       "  'feature_type': 'CATEGORICAL',\n",
       "  'feature_dimension': 4,\n",
       "  'field_type': 'STRING',\n",
       "  'description': 'Represents features with values in [mercedes, porsche, tesla, audi]',\n",
       "  'minimum': None,\n",
       "  'maximum': None}]"
      ]
     },
     "metadata": {},
     "execution_count": 9
    }
   ],
   "metadata": {}
  },
  {
   "cell_type": "code",
   "execution_count": 19,
   "source": [
    "config = json.loads(features_schema.json())\n",
    "\n",
    "for i, feature in enumerate(config[\"ordered_features\"]):\n",
    "    feature[\"feature_type\"] = schema.FeatureType.from_string(feature[\"feature_type\"])\n",
    "    feature[\"field_type\"] = schema.FieldType.from_string(feature[\"field_type\"])\n",
    "\n",
    "    config[\"ordered_features\"][i] = schema.FeatureSchema(**feature)\n",
    "\n",
    "input_schema = schema.InputFeaturesSchema(**config)\n",
    "\n",
    "#isinstance(config[\"ordered_features\"][0], schema.FeatureSchema)"
   ],
   "outputs": [],
   "metadata": {}
  },
  {
   "cell_type": "code",
   "execution_count": 20,
   "source": [
    "input_schema"
   ],
   "outputs": [
    {
     "output_type": "execute_result",
     "data": {
      "text/plain": [
       "InputFeaturesSchema(name='test_schema', ordered_features=[FeatureSchema(name='building', feature_type=<FeatureType.CATEGORICAL: 'CATEGORICAL'>, feature_dimension=3, field_type=<FieldType.STRING: 'STRING'>, description='Represents features with values in [tower, house, other buildings]', minimum=None, maximum=None), FeatureSchema(name='car', feature_type=<FeatureType.CATEGORICAL: 'CATEGORICAL'>, feature_dimension=4, field_type=<FieldType.STRING: 'STRING'>, description='Represents features with values in [mercedes, porsche, tesla, audi]', minimum=None, maximum=None)])"
      ]
     },
     "metadata": {},
     "execution_count": 20
    }
   ],
   "metadata": {}
  },
  {
   "cell_type": "code",
   "execution_count": 14,
   "source": [
    "L = [1, 2, 3, 4]\n",
    "\n",
    "for l in L:\n",
    "    l += 2\n",
    "\n",
    "L"
   ],
   "outputs": [
    {
     "output_type": "execute_result",
     "data": {
      "text/plain": [
       "[1, 2, 3, 4]"
      ]
     },
     "metadata": {},
     "execution_count": 14
    }
   ],
   "metadata": {}
  },
  {
   "cell_type": "code",
   "execution_count": 17,
   "source": [
    "json.loads(building_feature.json())"
   ],
   "outputs": [
    {
     "output_type": "execute_result",
     "data": {
      "text/plain": [
       "{'name': 'building',\n",
       " 'feature_type': 'CATEGORICAL',\n",
       " 'feature_dimension': 3,\n",
       " 'field_type': 'STRING',\n",
       " 'description': 'Represents features with values in [tower, house, other buildings]',\n",
       " 'minimum': None,\n",
       " 'maximum': None}"
      ]
     },
     "metadata": {},
     "execution_count": 17
    }
   ],
   "metadata": {}
  },
  {
   "cell_type": "code",
   "execution_count": 33,
   "source": [
    "schema.FeatureSchema(**building_feature.dict()) == building_feature"
   ],
   "outputs": [
    {
     "output_type": "execute_result",
     "data": {
      "text/plain": [
       "True"
      ]
     },
     "metadata": {},
     "execution_count": 33
    }
   ],
   "metadata": {}
  },
  {
   "cell_type": "code",
   "execution_count": 26,
   "source": [
    "json.loads(building_feature.json())[\"maximum\"] is None"
   ],
   "outputs": [
    {
     "output_type": "execute_result",
     "data": {
      "text/plain": [
       "True"
      ]
     },
     "metadata": {},
     "execution_count": 26
    }
   ],
   "metadata": {}
  },
  {
   "cell_type": "code",
   "execution_count": 23,
   "source": [
    "type(json.loads(building_feature.json()))"
   ],
   "outputs": [
    {
     "output_type": "execute_result",
     "data": {
      "text/plain": [
       "dict"
      ]
     },
     "metadata": {},
     "execution_count": 23
    }
   ],
   "metadata": {}
  },
  {
   "cell_type": "code",
   "execution_count": 19,
   "source": [
    "isinstance(schema.FeatureType.CATEGORICAL, schema.FeatureType)"
   ],
   "outputs": [
    {
     "output_type": "execute_result",
     "data": {
      "text/plain": [
       "True"
      ]
     },
     "metadata": {},
     "execution_count": 19
    }
   ],
   "metadata": {}
  },
  {
   "cell_type": "code",
   "execution_count": 20,
   "source": [
    "from enum import Enum\n",
    "\n",
    "class FieldType(Enum):\n",
    "    INT = \"INT\"\n",
    "    FLOAT = \"FLOAT\"\n",
    "    STRING = \"STRING\"\n",
    "\n",
    "    @classmethod\n",
    "    def from_string(cls, value: str):\n",
    "        if value.upper() == \"INT\":\n",
    "            return cls.INT\n",
    "        elif value.upper() == \"FLOAT\":\n",
    "            return cls.FLOAT\n",
    "        elif value.upper() == \"STRING\":\n",
    "            return cls.STRING\n",
    "        else:\n",
    "            raise ValueError(\"`value` must be in [`INT`, `FLOAT`, `STRING`]\")"
   ],
   "outputs": [],
   "metadata": {}
  },
  {
   "cell_type": "code",
   "execution_count": 21,
   "source": [
    "tpe = FieldType.from_string(\"int\")"
   ],
   "outputs": [],
   "metadata": {}
  },
  {
   "cell_type": "code",
   "execution_count": 22,
   "source": [
    "tpe"
   ],
   "outputs": [
    {
     "output_type": "execute_result",
     "data": {
      "text/plain": [
       "<FieldType.INT: 'INT'>"
      ]
     },
     "metadata": {},
     "execution_count": 22
    }
   ],
   "metadata": {}
  },
  {
   "cell_type": "code",
   "execution_count": null,
   "source": [],
   "outputs": [],
   "metadata": {}
  },
  {
   "cell_type": "code",
   "execution_count": 34,
   "source": [
    "L = [1, 2, 3, 5]\n",
    "L[1] += 2\n",
    "L"
   ],
   "outputs": [
    {
     "output_type": "execute_result",
     "data": {
      "text/plain": [
       "[1, 4, 3, 5]"
      ]
     },
     "metadata": {},
     "execution_count": 34
    }
   ],
   "metadata": {}
  },
  {
   "cell_type": "code",
   "execution_count": null,
   "source": [],
   "outputs": [],
   "metadata": {}
  },
  {
   "cell_type": "code",
   "execution_count": null,
   "source": [],
   "outputs": [],
   "metadata": {}
  },
  {
   "cell_type": "code",
   "execution_count": null,
   "source": [],
   "outputs": [],
   "metadata": {}
  },
  {
   "cell_type": "code",
   "execution_count": null,
   "source": [],
   "outputs": [],
   "metadata": {}
  },
  {
   "cell_type": "code",
   "execution_count": null,
   "source": [],
   "outputs": [],
   "metadata": {}
  }
 ],
 "metadata": {
  "orig_nbformat": 4,
  "language_info": {
   "name": "python",
   "version": "3.8.12",
   "mimetype": "text/x-python",
   "codemirror_mode": {
    "name": "ipython",
    "version": 3
   },
   "pygments_lexer": "ipython3",
   "nbconvert_exporter": "python",
   "file_extension": ".py"
  },
  "kernelspec": {
   "name": "python3",
   "display_name": "Python 3.8.12 64-bit ('tf_macos_env': conda)"
  },
  "interpreter": {
   "hash": "926cf6148e78ad5bf5a3af554d1dec10656480b13a08abe5f4a942457fb4719b"
  }
 },
 "nbformat": 4,
 "nbformat_minor": 2
}